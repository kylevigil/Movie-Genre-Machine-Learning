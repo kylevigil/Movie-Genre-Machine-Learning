{
 "cells": [
  {
   "cell_type": "code",
   "execution_count": 1,
   "metadata": {
    "collapsed": true
   },
   "outputs": [],
   "source": [
    "%matplotlib inline\n",
    "import matplotlib.pyplot as plt\n",
    "import seaborn as sns\n",
    "from textblob import TextBlob\n",
    "\n",
    "import numpy as np\n",
    "import pandas as pd\n",
    "import os"
   ]
  },
  {
   "cell_type": "code",
   "execution_count": 2,
   "metadata": {
    "collapsed": true
   },
   "outputs": [],
   "source": [
    "prefix = '/data/kylevigil/'"
   ]
  },
  {
   "cell_type": "markdown",
   "metadata": {},
   "source": [
    "# Data Cleaning"
   ]
  },
  {
   "cell_type": "markdown",
   "metadata": {},
   "source": [
    "In this notebook I will clean up the data collected by the MovieLens group in order to be used by my project."
   ]
  },
  {
   "cell_type": "markdown",
   "metadata": {},
   "source": [
    "Here are the tables available in the dataset:"
   ]
  },
  {
   "cell_type": "code",
   "execution_count": 3,
   "metadata": {
    "collapsed": false
   },
   "outputs": [
    {
     "name": "stdout",
     "output_type": "stream",
     "text": [
      "colors.pkl\t     movie_locations.dat  user_ratedmovies.dat\r\n",
      "genres.pkl\t     movies.dat\t\t  user_ratedmovies-timestamps.dat\r\n",
      "movie_actors.dat     moviesData.pkl\t  user_taggedmovies.dat\r\n",
      "movie_countries.dat  movie_tags.dat\t  user_taggedmovies-timestamps.dat\r\n",
      "movie_directors.dat  readme.txt\r\n",
      "movie_genres.dat     tags.dat\r\n"
     ]
    }
   ],
   "source": [
    "!ls /data/kylevigil"
   ]
  },
  {
   "cell_type": "markdown",
   "metadata": {},
   "source": [
    "## Movies"
   ]
  },
  {
   "cell_type": "markdown",
   "metadata": {},
   "source": [
    "I will start by importing the table of movies. I will only use the title, url of the movie poster, the number of ratings, and the overall rating of the movie"
   ]
  },
  {
   "cell_type": "code",
   "execution_count": 4,
   "metadata": {
    "collapsed": false
   },
   "outputs": [],
   "source": [
    "movies = pd.read_csv(prefix + 'movies.dat', delimiter = '\\t', encoding = 'ISO-8859-1', index_col=0)\n",
    "movies = movies[['title','imdbPictureURL','year','rtAudienceNumRatings','rtAudienceScore']]"
   ]
  },
  {
   "cell_type": "code",
   "execution_count": 5,
   "metadata": {
    "collapsed": false
   },
   "outputs": [
    {
     "data": {
      "text/html": [
       "<div>\n",
       "<table border=\"1\" class=\"dataframe\">\n",
       "  <thead>\n",
       "    <tr style=\"text-align: right;\">\n",
       "      <th></th>\n",
       "      <th>title</th>\n",
       "      <th>imdbPictureURL</th>\n",
       "      <th>year</th>\n",
       "      <th>rtAudienceNumRatings</th>\n",
       "      <th>rtAudienceScore</th>\n",
       "    </tr>\n",
       "    <tr>\n",
       "      <th>id</th>\n",
       "      <th></th>\n",
       "      <th></th>\n",
       "      <th></th>\n",
       "      <th></th>\n",
       "      <th></th>\n",
       "    </tr>\n",
       "  </thead>\n",
       "  <tbody>\n",
       "    <tr>\n",
       "      <th>1</th>\n",
       "      <td>Toy story</td>\n",
       "      <td>http://ia.media-imdb.com/images/M/MV5BMTMwNDU0...</td>\n",
       "      <td>1995</td>\n",
       "      <td>102338</td>\n",
       "      <td>81</td>\n",
       "    </tr>\n",
       "    <tr>\n",
       "      <th>2</th>\n",
       "      <td>Jumanji</td>\n",
       "      <td>http://ia.media-imdb.com/images/M/MV5BMzM5NjE1...</td>\n",
       "      <td>1995</td>\n",
       "      <td>44587</td>\n",
       "      <td>61</td>\n",
       "    </tr>\n",
       "    <tr>\n",
       "      <th>3</th>\n",
       "      <td>Grumpy Old Men</td>\n",
       "      <td>http://ia.media-imdb.com/images/M/MV5BMTI5MTgy...</td>\n",
       "      <td>1993</td>\n",
       "      <td>10489</td>\n",
       "      <td>66</td>\n",
       "    </tr>\n",
       "    <tr>\n",
       "      <th>4</th>\n",
       "      <td>Waiting to Exhale</td>\n",
       "      <td>http://ia.media-imdb.com/images/M/MV5BMTczMTMy...</td>\n",
       "      <td>1995</td>\n",
       "      <td>5666</td>\n",
       "      <td>79</td>\n",
       "    </tr>\n",
       "    <tr>\n",
       "      <th>5</th>\n",
       "      <td>Father of the Bride Part II</td>\n",
       "      <td>http://ia.media-imdb.com/images/M/MV5BMTg1NDc2...</td>\n",
       "      <td>1995</td>\n",
       "      <td>13761</td>\n",
       "      <td>64</td>\n",
       "    </tr>\n",
       "  </tbody>\n",
       "</table>\n",
       "</div>"
      ],
      "text/plain": [
       "                          title  \\\n",
       "id                                \n",
       "1                     Toy story   \n",
       "2                       Jumanji   \n",
       "3                Grumpy Old Men   \n",
       "4             Waiting to Exhale   \n",
       "5   Father of the Bride Part II   \n",
       "\n",
       "                                       imdbPictureURL  year  \\\n",
       "id                                                            \n",
       "1   http://ia.media-imdb.com/images/M/MV5BMTMwNDU0...  1995   \n",
       "2   http://ia.media-imdb.com/images/M/MV5BMzM5NjE1...  1995   \n",
       "3   http://ia.media-imdb.com/images/M/MV5BMTI5MTgy...  1993   \n",
       "4   http://ia.media-imdb.com/images/M/MV5BMTczMTMy...  1995   \n",
       "5   http://ia.media-imdb.com/images/M/MV5BMTg1NDc2...  1995   \n",
       "\n",
       "   rtAudienceNumRatings rtAudienceScore  \n",
       "id                                       \n",
       "1                102338              81  \n",
       "2                 44587              61  \n",
       "3                 10489              66  \n",
       "4                  5666              79  \n",
       "5                 13761              64  "
      ]
     },
     "execution_count": 5,
     "metadata": {},
     "output_type": "execute_result"
    }
   ],
   "source": [
    "movies.head()"
   ]
  },
  {
   "cell_type": "markdown",
   "metadata": {},
   "source": [
    "I can extract some data from both the title and the movie poster URL. With the title, I will find the sentiment with the theory that happier movies like childrens movies and romantic movies will have a more positive sentiment than movies like horror movies."
   ]
  },
  {
   "cell_type": "code",
   "execution_count": 6,
   "metadata": {
    "collapsed": false
   },
   "outputs": [],
   "source": [
    "movies['titleSentiment'] = [TextBlob(i).sentiment.polarity for i in movies.title]"
   ]
  },
  {
   "cell_type": "markdown",
   "metadata": {},
   "source": [
    "From each movie poster I extracted the rgb value of the most popular color. For each rgb color I found the least squared distance to a dictionary of colors that I assembled so I could categorize each color. I then saved these colors to a pickle file called colors.pkl. I go into this in more detail in the notebook: [Color Clusters](02a-ColorClusters.ipynb)."
   ]
  },
  {
   "cell_type": "code",
   "execution_count": 7,
   "metadata": {
    "collapsed": false
   },
   "outputs": [
    {
     "data": {
      "text/html": [
       "<div>\n",
       "<table border=\"1\" class=\"dataframe\">\n",
       "  <thead>\n",
       "    <tr style=\"text-align: right;\">\n",
       "      <th></th>\n",
       "      <th>posterColor</th>\n",
       "      <th>color</th>\n",
       "      <th>colorNum</th>\n",
       "    </tr>\n",
       "    <tr>\n",
       "      <th>id</th>\n",
       "      <th></th>\n",
       "      <th></th>\n",
       "      <th></th>\n",
       "    </tr>\n",
       "  </thead>\n",
       "  <tbody>\n",
       "    <tr>\n",
       "      <th>1</th>\n",
       "      <td>dark red</td>\n",
       "      <td>(104.392166836, 54.7272562127, 43.522889115)</td>\n",
       "      <td>5</td>\n",
       "    </tr>\n",
       "    <tr>\n",
       "      <th>2</th>\n",
       "      <td>tan</td>\n",
       "      <td>(139.494224539, 107.210170447, 69.5860332441)</td>\n",
       "      <td>10</td>\n",
       "    </tr>\n",
       "    <tr>\n",
       "      <th>3</th>\n",
       "      <td>white</td>\n",
       "      <td>(240.257754103, 245.865108686, 244.831228342)</td>\n",
       "      <td>11</td>\n",
       "    </tr>\n",
       "    <tr>\n",
       "      <th>4</th>\n",
       "      <td>white</td>\n",
       "      <td>(245.888900917, 241.470051238, 222.634877679)</td>\n",
       "      <td>11</td>\n",
       "    </tr>\n",
       "    <tr>\n",
       "      <th>5</th>\n",
       "      <td>dark red</td>\n",
       "      <td>(66.3822844645, 58.6215606039, 44.2912374771)</td>\n",
       "      <td>5</td>\n",
       "    </tr>\n",
       "  </tbody>\n",
       "</table>\n",
       "</div>"
      ],
      "text/plain": [
       "   posterColor                                          color  colorNum\n",
       "id                                                                     \n",
       "1     dark red   (104.392166836, 54.7272562127, 43.522889115)         5\n",
       "2          tan  (139.494224539, 107.210170447, 69.5860332441)        10\n",
       "3        white  (240.257754103, 245.865108686, 244.831228342)        11\n",
       "4        white  (245.888900917, 241.470051238, 222.634877679)        11\n",
       "5     dark red  (66.3822844645, 58.6215606039, 44.2912374771)         5"
      ]
     },
     "execution_count": 7,
     "metadata": {},
     "output_type": "execute_result"
    }
   ],
   "source": [
    "colors = pd.read_pickle(prefix + 'colors.pkl')\n",
    "colors['colorNum'] = pd.Categorical(colors.posterColor).codes\n",
    "colors.head()"
   ]
  },
  {
   "cell_type": "code",
   "execution_count": 8,
   "metadata": {
    "collapsed": false
   },
   "outputs": [
    {
     "data": {
      "text/html": [
       "<div>\n",
       "<table border=\"1\" class=\"dataframe\">\n",
       "  <thead>\n",
       "    <tr style=\"text-align: right;\">\n",
       "      <th></th>\n",
       "      <th>title</th>\n",
       "      <th>imdbPictureURL</th>\n",
       "      <th>year</th>\n",
       "      <th>rtAudienceNumRatings</th>\n",
       "      <th>rtAudienceScore</th>\n",
       "      <th>titleSentiment</th>\n",
       "    </tr>\n",
       "    <tr>\n",
       "      <th>id</th>\n",
       "      <th></th>\n",
       "      <th></th>\n",
       "      <th></th>\n",
       "      <th></th>\n",
       "      <th></th>\n",
       "      <th></th>\n",
       "    </tr>\n",
       "  </thead>\n",
       "  <tbody>\n",
       "    <tr>\n",
       "      <th>1</th>\n",
       "      <td>Toy story</td>\n",
       "      <td>http://ia.media-imdb.com/images/M/MV5BMTMwNDU0...</td>\n",
       "      <td>1995</td>\n",
       "      <td>102338</td>\n",
       "      <td>81</td>\n",
       "      <td>0.0</td>\n",
       "    </tr>\n",
       "    <tr>\n",
       "      <th>2</th>\n",
       "      <td>Jumanji</td>\n",
       "      <td>http://ia.media-imdb.com/images/M/MV5BMzM5NjE1...</td>\n",
       "      <td>1995</td>\n",
       "      <td>44587</td>\n",
       "      <td>61</td>\n",
       "      <td>0.0</td>\n",
       "    </tr>\n",
       "    <tr>\n",
       "      <th>3</th>\n",
       "      <td>Grumpy Old Men</td>\n",
       "      <td>http://ia.media-imdb.com/images/M/MV5BMTI5MTgy...</td>\n",
       "      <td>1993</td>\n",
       "      <td>10489</td>\n",
       "      <td>66</td>\n",
       "      <td>0.1</td>\n",
       "    </tr>\n",
       "    <tr>\n",
       "      <th>4</th>\n",
       "      <td>Waiting to Exhale</td>\n",
       "      <td>http://ia.media-imdb.com/images/M/MV5BMTczMTMy...</td>\n",
       "      <td>1995</td>\n",
       "      <td>5666</td>\n",
       "      <td>79</td>\n",
       "      <td>0.0</td>\n",
       "    </tr>\n",
       "    <tr>\n",
       "      <th>5</th>\n",
       "      <td>Father of the Bride Part II</td>\n",
       "      <td>http://ia.media-imdb.com/images/M/MV5BMTg1NDc2...</td>\n",
       "      <td>1995</td>\n",
       "      <td>13761</td>\n",
       "      <td>64</td>\n",
       "      <td>0.0</td>\n",
       "    </tr>\n",
       "  </tbody>\n",
       "</table>\n",
       "</div>"
      ],
      "text/plain": [
       "                          title  \\\n",
       "id                                \n",
       "1                     Toy story   \n",
       "2                       Jumanji   \n",
       "3                Grumpy Old Men   \n",
       "4             Waiting to Exhale   \n",
       "5   Father of the Bride Part II   \n",
       "\n",
       "                                       imdbPictureURL  year  \\\n",
       "id                                                            \n",
       "1   http://ia.media-imdb.com/images/M/MV5BMTMwNDU0...  1995   \n",
       "2   http://ia.media-imdb.com/images/M/MV5BMzM5NjE1...  1995   \n",
       "3   http://ia.media-imdb.com/images/M/MV5BMTI5MTgy...  1993   \n",
       "4   http://ia.media-imdb.com/images/M/MV5BMTczMTMy...  1995   \n",
       "5   http://ia.media-imdb.com/images/M/MV5BMTg1NDc2...  1995   \n",
       "\n",
       "   rtAudienceNumRatings rtAudienceScore  titleSentiment  \n",
       "id                                                       \n",
       "1                102338              81             0.0  \n",
       "2                 44587              61             0.0  \n",
       "3                 10489              66             0.1  \n",
       "4                  5666              79             0.0  \n",
       "5                 13761              64             0.0  "
      ]
     },
     "execution_count": 8,
     "metadata": {},
     "output_type": "execute_result"
    }
   ],
   "source": [
    "movies.head()"
   ]
  },
  {
   "cell_type": "code",
   "execution_count": 9,
   "metadata": {
    "collapsed": false
   },
   "outputs": [],
   "source": [
    "assert pd.notnull(movies.title.any())\n",
    "assert pd.notnull(movies.year.any())\n",
    "assert len(movies[(movies.titleSentiment > 1) | (movies.titleSentiment < -1)]) == 0"
   ]
  },
  {
   "cell_type": "markdown",
   "metadata": {},
   "source": [
    "## Directors"
   ]
  },
  {
   "cell_type": "markdown",
   "metadata": {},
   "source": [
    "Now that the movies table is finished, I will move on to the directors"
   ]
  },
  {
   "cell_type": "markdown",
   "metadata": {},
   "source": [
    "The only columns that I care about in this table is the directors name along with the movie id."
   ]
  },
  {
   "cell_type": "code",
   "execution_count": 10,
   "metadata": {
    "collapsed": false
   },
   "outputs": [],
   "source": [
    "directors = pd.read_csv(prefix + 'movie_directors.dat', delimiter = '\\t', encoding = 'ISO-8859-1', index_col=0)\n",
    "directors = directors[['directorName']]"
   ]
  },
  {
   "cell_type": "markdown",
   "metadata": {},
   "source": [
    "I found that the only way I can really use this data is if I make this a categorical set of data. Because of that, I assign a number to each director."
   ]
  },
  {
   "cell_type": "code",
   "execution_count": 11,
   "metadata": {
    "collapsed": false
   },
   "outputs": [
    {
     "data": {
      "text/html": [
       "<div>\n",
       "<table border=\"1\" class=\"dataframe\">\n",
       "  <thead>\n",
       "    <tr style=\"text-align: right;\">\n",
       "      <th></th>\n",
       "      <th>directorName</th>\n",
       "      <th>directorNum</th>\n",
       "    </tr>\n",
       "    <tr>\n",
       "      <th>movieID</th>\n",
       "      <th></th>\n",
       "      <th></th>\n",
       "    </tr>\n",
       "  </thead>\n",
       "  <tbody>\n",
       "    <tr>\n",
       "      <th>1</th>\n",
       "      <td>John Lasseter</td>\n",
       "      <td>2027</td>\n",
       "    </tr>\n",
       "    <tr>\n",
       "      <th>2</th>\n",
       "      <td>Joe Johnston</td>\n",
       "      <td>1938</td>\n",
       "    </tr>\n",
       "    <tr>\n",
       "      <th>3</th>\n",
       "      <td>Donald Petrie</td>\n",
       "      <td>1038</td>\n",
       "    </tr>\n",
       "    <tr>\n",
       "      <th>4</th>\n",
       "      <td>Forest Whitaker</td>\n",
       "      <td>1237</td>\n",
       "    </tr>\n",
       "    <tr>\n",
       "      <th>5</th>\n",
       "      <td>Charles Shyer</td>\n",
       "      <td>609</td>\n",
       "    </tr>\n",
       "  </tbody>\n",
       "</table>\n",
       "</div>"
      ],
      "text/plain": [
       "            directorName  directorNum\n",
       "movieID                              \n",
       "1          John Lasseter         2027\n",
       "2           Joe Johnston         1938\n",
       "3          Donald Petrie         1038\n",
       "4        Forest Whitaker         1237\n",
       "5          Charles Shyer          609"
      ]
     },
     "execution_count": 11,
     "metadata": {},
     "output_type": "execute_result"
    }
   ],
   "source": [
    "directors['directorNum'] = pd.Categorical(directors.directorName).codes\n",
    "directors.head()"
   ]
  },
  {
   "cell_type": "code",
   "execution_count": 12,
   "metadata": {
    "collapsed": false
   },
   "outputs": [],
   "source": [
    "assert pd.notnull(directors.directorName.any())\n",
    "assert len(directors) > directors.directorNum.max()"
   ]
  },
  {
   "cell_type": "markdown",
   "metadata": {},
   "source": [
    "## Actors"
   ]
  },
  {
   "cell_type": "markdown",
   "metadata": {},
   "source": [
    "The next table I moved to was the actors. This along with the directors will hopefully group the movies because actors and directors tend to work in the same genre most of their career."
   ]
  },
  {
   "cell_type": "markdown",
   "metadata": {},
   "source": [
    "This table has a list of many actors for each movie ranked by role importance so for simplicity sake I took only the lead actor for each movie."
   ]
  },
  {
   "cell_type": "code",
   "execution_count": 13,
   "metadata": {
    "collapsed": true
   },
   "outputs": [],
   "source": [
    "actors = pd.read_csv(prefix + 'movie_actors.dat', delimiter = '\\t', encoding = 'ISO-8859-1', index_col=0)\n",
    "actors = actors[actors.ranking == 1]\n",
    "actors = actors[['actorName']]"
   ]
  },
  {
   "cell_type": "markdown",
   "metadata": {},
   "source": [
    "I also made these into categories by assigning each a number."
   ]
  },
  {
   "cell_type": "code",
   "execution_count": 14,
   "metadata": {
    "collapsed": false
   },
   "outputs": [
    {
     "data": {
      "text/html": [
       "<div>\n",
       "<table border=\"1\" class=\"dataframe\">\n",
       "  <thead>\n",
       "    <tr style=\"text-align: right;\">\n",
       "      <th></th>\n",
       "      <th>actorName</th>\n",
       "      <th>actorNum</th>\n",
       "    </tr>\n",
       "    <tr>\n",
       "      <th>movieID</th>\n",
       "      <th></th>\n",
       "      <th></th>\n",
       "    </tr>\n",
       "  </thead>\n",
       "  <tbody>\n",
       "    <tr>\n",
       "      <th>1</th>\n",
       "      <td>Tom Hanks</td>\n",
       "      <td>7241</td>\n",
       "    </tr>\n",
       "    <tr>\n",
       "      <th>2</th>\n",
       "      <td>Robin Williams</td>\n",
       "      <td>6293</td>\n",
       "    </tr>\n",
       "    <tr>\n",
       "      <th>3</th>\n",
       "      <td>Jack Lemmon</td>\n",
       "      <td>3122</td>\n",
       "    </tr>\n",
       "    <tr>\n",
       "      <th>4</th>\n",
       "      <td>Whitney Houston</td>\n",
       "      <td>7557</td>\n",
       "    </tr>\n",
       "    <tr>\n",
       "      <th>5</th>\n",
       "      <td>Steve Martin</td>\n",
       "      <td>6881</td>\n",
       "    </tr>\n",
       "  </tbody>\n",
       "</table>\n",
       "</div>"
      ],
      "text/plain": [
       "               actorName  actorNum\n",
       "movieID                           \n",
       "1              Tom Hanks      7241\n",
       "2         Robin Williams      6293\n",
       "3            Jack Lemmon      3122\n",
       "4        Whitney Houston      7557\n",
       "5           Steve Martin      6881"
      ]
     },
     "execution_count": 14,
     "metadata": {},
     "output_type": "execute_result"
    }
   ],
   "source": [
    "actors['actorNum'] = pd.Categorical(actors.actorName.astype('category')).codes\n",
    "actors.head()"
   ]
  },
  {
   "cell_type": "code",
   "execution_count": 15,
   "metadata": {
    "collapsed": true
   },
   "outputs": [],
   "source": [
    "assert pd.notnull(actors.actorName.any())\n",
    "assert len(actors) > actors.actorNum.max()"
   ]
  },
  {
   "cell_type": "markdown",
   "metadata": {},
   "source": [
    "## Tags"
   ]
  },
  {
   "cell_type": "markdown",
   "metadata": {},
   "source": [
    "Each movie has user submitted tags that I figured I could take advantage of with the same strategy of the movie title using sentiment analysis."
   ]
  },
  {
   "cell_type": "markdown",
   "metadata": {},
   "source": [
    "the tags were listed with one per row as well as being separated between two tables so I needed to gather all tags per movie using groupby operations."
   ]
  },
  {
   "cell_type": "code",
   "execution_count": 16,
   "metadata": {
    "collapsed": false
   },
   "outputs": [
    {
     "data": {
      "text/html": [
       "<div>\n",
       "<table border=\"1\" class=\"dataframe\">\n",
       "  <thead>\n",
       "    <tr style=\"text-align: right;\">\n",
       "      <th></th>\n",
       "      <th>tagID</th>\n",
       "      <th>tagWeight</th>\n",
       "    </tr>\n",
       "    <tr>\n",
       "      <th>movieID</th>\n",
       "      <th></th>\n",
       "      <th></th>\n",
       "    </tr>\n",
       "  </thead>\n",
       "  <tbody>\n",
       "    <tr>\n",
       "      <th>1</th>\n",
       "      <td>7</td>\n",
       "      <td>1</td>\n",
       "    </tr>\n",
       "    <tr>\n",
       "      <th>1</th>\n",
       "      <td>13</td>\n",
       "      <td>3</td>\n",
       "    </tr>\n",
       "    <tr>\n",
       "      <th>1</th>\n",
       "      <td>25</td>\n",
       "      <td>3</td>\n",
       "    </tr>\n",
       "    <tr>\n",
       "      <th>1</th>\n",
       "      <td>55</td>\n",
       "      <td>3</td>\n",
       "    </tr>\n",
       "    <tr>\n",
       "      <th>1</th>\n",
       "      <td>60</td>\n",
       "      <td>1</td>\n",
       "    </tr>\n",
       "  </tbody>\n",
       "</table>\n",
       "</div>"
      ],
      "text/plain": [
       "         tagID  tagWeight\n",
       "movieID                  \n",
       "1            7          1\n",
       "1           13          3\n",
       "1           25          3\n",
       "1           55          3\n",
       "1           60          1"
      ]
     },
     "execution_count": 16,
     "metadata": {},
     "output_type": "execute_result"
    }
   ],
   "source": [
    "tagNums = pd.read_csv(prefix + 'movie_tags.dat', delimiter = '\\t', encoding = 'ISO-8859-1', index_col=0)\n",
    "tagNums.head()"
   ]
  },
  {
   "cell_type": "code",
   "execution_count": 17,
   "metadata": {
    "collapsed": false
   },
   "outputs": [
    {
     "data": {
      "text/html": [
       "<div>\n",
       "<table border=\"1\" class=\"dataframe\">\n",
       "  <thead>\n",
       "    <tr style=\"text-align: right;\">\n",
       "      <th></th>\n",
       "      <th>value</th>\n",
       "    </tr>\n",
       "    <tr>\n",
       "      <th>id</th>\n",
       "      <th></th>\n",
       "    </tr>\n",
       "  </thead>\n",
       "  <tbody>\n",
       "    <tr>\n",
       "      <th>1</th>\n",
       "      <td>earth</td>\n",
       "    </tr>\n",
       "    <tr>\n",
       "      <th>2</th>\n",
       "      <td>police</td>\n",
       "    </tr>\n",
       "    <tr>\n",
       "      <th>3</th>\n",
       "      <td>boxing</td>\n",
       "    </tr>\n",
       "    <tr>\n",
       "      <th>4</th>\n",
       "      <td>painter</td>\n",
       "    </tr>\n",
       "    <tr>\n",
       "      <th>5</th>\n",
       "      <td>whale</td>\n",
       "    </tr>\n",
       "  </tbody>\n",
       "</table>\n",
       "</div>"
      ],
      "text/plain": [
       "      value\n",
       "id         \n",
       "1     earth\n",
       "2    police\n",
       "3    boxing\n",
       "4   painter\n",
       "5     whale"
      ]
     },
     "execution_count": 17,
     "metadata": {},
     "output_type": "execute_result"
    }
   ],
   "source": [
    "tagText = pd.read_csv(prefix + 'tags.dat', delimiter = '\\t', encoding = 'ISO-8859-1', index_col=0)\n",
    "tagText.head()"
   ]
  },
  {
   "cell_type": "code",
   "execution_count": 18,
   "metadata": {
    "collapsed": false,
    "scrolled": true
   },
   "outputs": [
    {
     "data": {
      "text/html": [
       "<div>\n",
       "<table border=\"1\" class=\"dataframe\">\n",
       "  <thead>\n",
       "    <tr style=\"text-align: right;\">\n",
       "      <th></th>\n",
       "      <th>tagID</th>\n",
       "      <th>tagWeight</th>\n",
       "      <th>value</th>\n",
       "    </tr>\n",
       "    <tr>\n",
       "      <th>movieID</th>\n",
       "      <th></th>\n",
       "      <th></th>\n",
       "      <th></th>\n",
       "    </tr>\n",
       "  </thead>\n",
       "  <tbody>\n",
       "    <tr>\n",
       "      <th>1</th>\n",
       "      <td>7</td>\n",
       "      <td>1</td>\n",
       "      <td>funny</td>\n",
       "    </tr>\n",
       "    <tr>\n",
       "      <th>50</th>\n",
       "      <td>7</td>\n",
       "      <td>1</td>\n",
       "      <td>funny</td>\n",
       "    </tr>\n",
       "    <tr>\n",
       "      <th>186</th>\n",
       "      <td>7</td>\n",
       "      <td>1</td>\n",
       "      <td>funny</td>\n",
       "    </tr>\n",
       "    <tr>\n",
       "      <th>256</th>\n",
       "      <td>7</td>\n",
       "      <td>1</td>\n",
       "      <td>funny</td>\n",
       "    </tr>\n",
       "    <tr>\n",
       "      <th>272</th>\n",
       "      <td>7</td>\n",
       "      <td>1</td>\n",
       "      <td>funny</td>\n",
       "    </tr>\n",
       "  </tbody>\n",
       "</table>\n",
       "</div>"
      ],
      "text/plain": [
       "         tagID  tagWeight  value\n",
       "movieID                         \n",
       "1            7          1  funny\n",
       "50           7          1  funny\n",
       "186          7          1  funny\n",
       "256          7          1  funny\n",
       "272          7          1  funny"
      ]
     },
     "execution_count": 18,
     "metadata": {},
     "output_type": "execute_result"
    }
   ],
   "source": [
    "tags = pd.merge(tagNums, tagText, left_on = 'tagID', right_index = True)\n",
    "tags.head()"
   ]
  },
  {
   "cell_type": "markdown",
   "metadata": {},
   "source": [
    "The only column I needed of these is the value column with the actual text of the tag"
   ]
  },
  {
   "cell_type": "code",
   "execution_count": 19,
   "metadata": {
    "collapsed": true
   },
   "outputs": [],
   "source": [
    "tags = tags[['value']]"
   ]
  },
  {
   "cell_type": "markdown",
   "metadata": {},
   "source": [
    "I then group all of the tags together, space separated."
   ]
  },
  {
   "cell_type": "code",
   "execution_count": 20,
   "metadata": {
    "collapsed": false
   },
   "outputs": [
    {
     "data": {
      "text/html": [
       "<div>\n",
       "<table border=\"1\" class=\"dataframe\">\n",
       "  <thead>\n",
       "    <tr style=\"text-align: right;\">\n",
       "      <th></th>\n",
       "      <th>allTags</th>\n",
       "    </tr>\n",
       "    <tr>\n",
       "      <th>movieID</th>\n",
       "      <th></th>\n",
       "    </tr>\n",
       "  </thead>\n",
       "  <tbody>\n",
       "    <tr>\n",
       "      <th>1</th>\n",
       "      <td>funny time travel tim allen comedy fun fantasy...</td>\n",
       "    </tr>\n",
       "    <tr>\n",
       "      <th>2</th>\n",
       "      <td>time travel fantasy animals children game robi...</td>\n",
       "    </tr>\n",
       "    <tr>\n",
       "      <th>3</th>\n",
       "      <td>funniest movies sequel fever jack lemmon walte...</td>\n",
       "    </tr>\n",
       "    <tr>\n",
       "      <th>5</th>\n",
       "      <td>family sequel fever sequel remake wedding preg...</td>\n",
       "    </tr>\n",
       "    <tr>\n",
       "      <th>6</th>\n",
       "      <td>imdb top 250 witty want bibliothek robert de n...</td>\n",
       "    </tr>\n",
       "  </tbody>\n",
       "</table>\n",
       "</div>"
      ],
      "text/plain": [
       "                                                   allTags\n",
       "movieID                                                   \n",
       "1        funny time travel tim allen comedy fun fantasy...\n",
       "2        time travel fantasy animals children game robi...\n",
       "3        funniest movies sequel fever jack lemmon walte...\n",
       "5        family sequel fever sequel remake wedding preg...\n",
       "6        imdb top 250 witty want bibliothek robert de n..."
      ]
     },
     "execution_count": 20,
     "metadata": {},
     "output_type": "execute_result"
    }
   ],
   "source": [
    "tags['allTags'] = tags.groupby(tags.index, squeeze = True).agg(lambda x: ' '.join(x.tolist()))\n",
    "tags = tags.groupby(tags.index).first()\n",
    "tags = tags[['allTags']]\n",
    "tags.head()"
   ]
  },
  {
   "cell_type": "markdown",
   "metadata": {},
   "source": [
    "Now I add the actual data of the sentiment of the tags"
   ]
  },
  {
   "cell_type": "code",
   "execution_count": 21,
   "metadata": {
    "collapsed": false
   },
   "outputs": [
    {
     "data": {
      "text/html": [
       "<div>\n",
       "<table border=\"1\" class=\"dataframe\">\n",
       "  <thead>\n",
       "    <tr style=\"text-align: right;\">\n",
       "      <th></th>\n",
       "      <th>allTags</th>\n",
       "      <th>tagSentiment</th>\n",
       "    </tr>\n",
       "    <tr>\n",
       "      <th>movieID</th>\n",
       "      <th></th>\n",
       "      <th></th>\n",
       "    </tr>\n",
       "  </thead>\n",
       "  <tbody>\n",
       "    <tr>\n",
       "      <th>1</th>\n",
       "      <td>funny time travel tim allen comedy fun fantasy...</td>\n",
       "      <td>0.356944</td>\n",
       "    </tr>\n",
       "    <tr>\n",
       "      <th>2</th>\n",
       "      <td>time travel fantasy animals children game robi...</td>\n",
       "      <td>-0.337500</td>\n",
       "    </tr>\n",
       "    <tr>\n",
       "      <th>3</th>\n",
       "      <td>funniest movies sequel fever jack lemmon walte...</td>\n",
       "      <td>0.100000</td>\n",
       "    </tr>\n",
       "    <tr>\n",
       "      <th>5</th>\n",
       "      <td>family sequel fever sequel remake wedding preg...</td>\n",
       "      <td>0.000000</td>\n",
       "    </tr>\n",
       "    <tr>\n",
       "      <th>6</th>\n",
       "      <td>imdb top 250 witty want bibliothek robert de n...</td>\n",
       "      <td>0.060606</td>\n",
       "    </tr>\n",
       "  </tbody>\n",
       "</table>\n",
       "</div>"
      ],
      "text/plain": [
       "                                                   allTags  tagSentiment\n",
       "movieID                                                                 \n",
       "1        funny time travel tim allen comedy fun fantasy...      0.356944\n",
       "2        time travel fantasy animals children game robi...     -0.337500\n",
       "3        funniest movies sequel fever jack lemmon walte...      0.100000\n",
       "5        family sequel fever sequel remake wedding preg...      0.000000\n",
       "6        imdb top 250 witty want bibliothek robert de n...      0.060606"
      ]
     },
     "execution_count": 21,
     "metadata": {},
     "output_type": "execute_result"
    }
   ],
   "source": [
    "tags['tagSentiment'] = [TextBlob(i).sentiment.polarity for i in tags.allTags]\n",
    "tags.head()"
   ]
  },
  {
   "cell_type": "markdown",
   "metadata": {},
   "source": [
    "## Countries"
   ]
  },
  {
   "cell_type": "markdown",
   "metadata": {},
   "source": [
    "There is also a table with the countries that the movie is released in. I am skeptical of the importance of this data but I might as well include it."
   ]
  },
  {
   "cell_type": "code",
   "execution_count": 22,
   "metadata": {
    "collapsed": true
   },
   "outputs": [],
   "source": [
    "countries = pd.read_csv(prefix + 'movie_countries.dat', delimiter = '\\t', encoding = 'ISO-8859-1', index_col=0)"
   ]
  },
  {
   "cell_type": "code",
   "execution_count": 23,
   "metadata": {
    "collapsed": false
   },
   "outputs": [
    {
     "data": {
      "text/html": [
       "<div>\n",
       "<table border=\"1\" class=\"dataframe\">\n",
       "  <thead>\n",
       "    <tr style=\"text-align: right;\">\n",
       "      <th></th>\n",
       "      <th>country</th>\n",
       "      <th>countryNum</th>\n",
       "    </tr>\n",
       "    <tr>\n",
       "      <th>movieID</th>\n",
       "      <th></th>\n",
       "      <th></th>\n",
       "    </tr>\n",
       "  </thead>\n",
       "  <tbody>\n",
       "    <tr>\n",
       "      <th>1</th>\n",
       "      <td>USA</td>\n",
       "      <td>66</td>\n",
       "    </tr>\n",
       "    <tr>\n",
       "      <th>2</th>\n",
       "      <td>USA</td>\n",
       "      <td>66</td>\n",
       "    </tr>\n",
       "    <tr>\n",
       "      <th>3</th>\n",
       "      <td>USA</td>\n",
       "      <td>66</td>\n",
       "    </tr>\n",
       "    <tr>\n",
       "      <th>4</th>\n",
       "      <td>USA</td>\n",
       "      <td>66</td>\n",
       "    </tr>\n",
       "    <tr>\n",
       "      <th>5</th>\n",
       "      <td>USA</td>\n",
       "      <td>66</td>\n",
       "    </tr>\n",
       "  </tbody>\n",
       "</table>\n",
       "</div>"
      ],
      "text/plain": [
       "        country  countryNum\n",
       "movieID                    \n",
       "1           USA          66\n",
       "2           USA          66\n",
       "3           USA          66\n",
       "4           USA          66\n",
       "5           USA          66"
      ]
     },
     "execution_count": 23,
     "metadata": {},
     "output_type": "execute_result"
    }
   ],
   "source": [
    "countries['countryNum'] = pd.Categorical(countries.country.astype('category')).codes\n",
    "countries.head()"
   ]
  },
  {
   "cell_type": "code",
   "execution_count": 24,
   "metadata": {
    "collapsed": true
   },
   "outputs": [],
   "source": [
    "assert pd.notnull(countries.country.any())\n",
    "assert len(countries) > countries.countryNum.max()"
   ]
  },
  {
   "cell_type": "markdown",
   "metadata": {},
   "source": [
    "## Genre"
   ]
  },
  {
   "cell_type": "markdown",
   "metadata": {},
   "source": [
    "Now for the data that I am trying to predict. This was tricky because each movie had been given a list of genres that had up to seven values in it. I reduced these down to one overarching genre in the notebook: [Genre](02b-Genre.ipynb) and save them to a pickle called genres.pkl."
   ]
  },
  {
   "cell_type": "markdown",
   "metadata": {},
   "source": [
    "I read in the file and assign each genre a number to categorize them."
   ]
  },
  {
   "cell_type": "code",
   "execution_count": 25,
   "metadata": {
    "collapsed": false
   },
   "outputs": [
    {
     "data": {
      "text/html": [
       "<div>\n",
       "<table border=\"1\" class=\"dataframe\">\n",
       "  <thead>\n",
       "    <tr style=\"text-align: right;\">\n",
       "      <th></th>\n",
       "      <th>realGenre</th>\n",
       "      <th>genreNum</th>\n",
       "    </tr>\n",
       "    <tr>\n",
       "      <th>movieID</th>\n",
       "      <th></th>\n",
       "      <th></th>\n",
       "    </tr>\n",
       "  </thead>\n",
       "  <tbody>\n",
       "    <tr>\n",
       "      <th>1</th>\n",
       "      <td>Comedy</td>\n",
       "      <td>1</td>\n",
       "    </tr>\n",
       "    <tr>\n",
       "      <th>2</th>\n",
       "      <td>None</td>\n",
       "      <td>4</td>\n",
       "    </tr>\n",
       "    <tr>\n",
       "      <th>3</th>\n",
       "      <td>Romance</td>\n",
       "      <td>5</td>\n",
       "    </tr>\n",
       "    <tr>\n",
       "      <th>4</th>\n",
       "      <td>Romance</td>\n",
       "      <td>5</td>\n",
       "    </tr>\n",
       "    <tr>\n",
       "      <th>5</th>\n",
       "      <td>Comedy</td>\n",
       "      <td>1</td>\n",
       "    </tr>\n",
       "  </tbody>\n",
       "</table>\n",
       "</div>"
      ],
      "text/plain": [
       "        realGenre  genreNum\n",
       "movieID                    \n",
       "1          Comedy         1\n",
       "2            None         4\n",
       "3         Romance         5\n",
       "4         Romance         5\n",
       "5          Comedy         1"
      ]
     },
     "execution_count": 25,
     "metadata": {},
     "output_type": "execute_result"
    }
   ],
   "source": [
    "genres = pd.read_pickle(prefix + 'genres.pkl')\n",
    "genres['genreNum'] = pd.Categorical(genres['realGenre']).codes\n",
    "genres.head()"
   ]
  },
  {
   "cell_type": "code",
   "execution_count": 26,
   "metadata": {
    "collapsed": false
   },
   "outputs": [],
   "source": [
    "assert genres.genreNum.max() == 5"
   ]
  },
  {
   "cell_type": "markdown",
   "metadata": {},
   "source": [
    "## Merging Data"
   ]
  },
  {
   "cell_type": "markdown",
   "metadata": {},
   "source": [
    "I now need to merge all of the usable data into a single table called moviesData"
   ]
  },
  {
   "cell_type": "code",
   "execution_count": 27,
   "metadata": {
    "collapsed": false
   },
   "outputs": [],
   "source": [
    "moviesData = pd.merge(movies[['title','year','rtAudienceNumRatings','rtAudienceScore','titleSentiment']],\n",
    "                      genres, left_index=True, right_index=True, how = 'inner')\n",
    "moviesData = pd.merge(moviesData, directors, left_index=True, right_index=True, how = 'inner')\n",
    "moviesData = pd.merge(moviesData, colors, left_index = True, right_index = True)\n",
    "moviesData = pd.merge(moviesData, actors, left_index=True, right_index=True, how = 'inner')\n",
    "moviesData = pd.merge(moviesData, tags[['tagSentiment']], left_index=True, right_index=True)\n",
    "moviesData = pd.merge(moviesData, countries[['countryNum']], left_index=True, right_index=True, how = 'inner')\n",
    "moviesData = moviesData[moviesData.realGenre != 'None']\n",
    "moviesData = moviesData.dropna()"
   ]
  },
  {
   "cell_type": "code",
   "execution_count": 28,
   "metadata": {
    "collapsed": false
   },
   "outputs": [
    {
     "data": {
      "text/html": [
       "<div>\n",
       "<table border=\"1\" class=\"dataframe\">\n",
       "  <thead>\n",
       "    <tr style=\"text-align: right;\">\n",
       "      <th></th>\n",
       "      <th>title</th>\n",
       "      <th>year</th>\n",
       "      <th>rtAudienceNumRatings</th>\n",
       "      <th>rtAudienceScore</th>\n",
       "      <th>titleSentiment</th>\n",
       "      <th>realGenre</th>\n",
       "      <th>genreNum</th>\n",
       "      <th>directorName</th>\n",
       "      <th>directorNum</th>\n",
       "      <th>posterColor</th>\n",
       "      <th>color</th>\n",
       "      <th>colorNum</th>\n",
       "      <th>actorName</th>\n",
       "      <th>actorNum</th>\n",
       "      <th>tagSentiment</th>\n",
       "      <th>countryNum</th>\n",
       "    </tr>\n",
       "  </thead>\n",
       "  <tbody>\n",
       "    <tr>\n",
       "      <th>1</th>\n",
       "      <td>Toy story</td>\n",
       "      <td>1995</td>\n",
       "      <td>102338</td>\n",
       "      <td>81</td>\n",
       "      <td>0.0</td>\n",
       "      <td>Comedy</td>\n",
       "      <td>1</td>\n",
       "      <td>John Lasseter</td>\n",
       "      <td>2027</td>\n",
       "      <td>dark red</td>\n",
       "      <td>(104.392166836, 54.7272562127, 43.522889115)</td>\n",
       "      <td>5</td>\n",
       "      <td>Tom Hanks</td>\n",
       "      <td>7241</td>\n",
       "      <td>0.356944</td>\n",
       "      <td>66</td>\n",
       "    </tr>\n",
       "    <tr>\n",
       "      <th>3</th>\n",
       "      <td>Grumpy Old Men</td>\n",
       "      <td>1993</td>\n",
       "      <td>10489</td>\n",
       "      <td>66</td>\n",
       "      <td>0.1</td>\n",
       "      <td>Romance</td>\n",
       "      <td>5</td>\n",
       "      <td>Donald Petrie</td>\n",
       "      <td>1038</td>\n",
       "      <td>white</td>\n",
       "      <td>(240.257754103, 245.865108686, 244.831228342)</td>\n",
       "      <td>11</td>\n",
       "      <td>Jack Lemmon</td>\n",
       "      <td>3122</td>\n",
       "      <td>0.100000</td>\n",
       "      <td>66</td>\n",
       "    </tr>\n",
       "    <tr>\n",
       "      <th>5</th>\n",
       "      <td>Father of the Bride Part II</td>\n",
       "      <td>1995</td>\n",
       "      <td>13761</td>\n",
       "      <td>64</td>\n",
       "      <td>0.0</td>\n",
       "      <td>Comedy</td>\n",
       "      <td>1</td>\n",
       "      <td>Charles Shyer</td>\n",
       "      <td>609</td>\n",
       "      <td>dark red</td>\n",
       "      <td>(66.3822844645, 58.6215606039, 44.2912374771)</td>\n",
       "      <td>5</td>\n",
       "      <td>Steve Martin</td>\n",
       "      <td>6881</td>\n",
       "      <td>0.000000</td>\n",
       "      <td>66</td>\n",
       "    </tr>\n",
       "    <tr>\n",
       "      <th>6</th>\n",
       "      <td>Heat</td>\n",
       "      <td>1995</td>\n",
       "      <td>42785</td>\n",
       "      <td>92</td>\n",
       "      <td>0.0</td>\n",
       "      <td>Action</td>\n",
       "      <td>0</td>\n",
       "      <td>Michael Mann</td>\n",
       "      <td>2716</td>\n",
       "      <td>light blue</td>\n",
       "      <td>(148.308032972, 178.875707128, 227.418005495)</td>\n",
       "      <td>6</td>\n",
       "      <td>Al Pacino</td>\n",
       "      <td>120</td>\n",
       "      <td>0.060606</td>\n",
       "      <td>66</td>\n",
       "    </tr>\n",
       "    <tr>\n",
       "      <th>7</th>\n",
       "      <td>Sabrina</td>\n",
       "      <td>1954</td>\n",
       "      <td>12812</td>\n",
       "      <td>87</td>\n",
       "      <td>0.0</td>\n",
       "      <td>Romance</td>\n",
       "      <td>5</td>\n",
       "      <td>Billy Wilder</td>\n",
       "      <td>398</td>\n",
       "      <td>black</td>\n",
       "      <td>(11.6874206517, 10.4756312597, 11.2805579066)</td>\n",
       "      <td>0</td>\n",
       "      <td>Humphrey Bogart</td>\n",
       "      <td>3009</td>\n",
       "      <td>0.000000</td>\n",
       "      <td>66</td>\n",
       "    </tr>\n",
       "  </tbody>\n",
       "</table>\n",
       "</div>"
      ],
      "text/plain": [
       "                         title  year rtAudienceNumRatings rtAudienceScore  \\\n",
       "1                    Toy story  1995               102338              81   \n",
       "3               Grumpy Old Men  1993                10489              66   \n",
       "5  Father of the Bride Part II  1995                13761              64   \n",
       "6                         Heat  1995                42785              92   \n",
       "7                      Sabrina  1954                12812              87   \n",
       "\n",
       "   titleSentiment realGenre  genreNum   directorName  directorNum posterColor  \\\n",
       "1             0.0    Comedy         1  John Lasseter         2027    dark red   \n",
       "3             0.1   Romance         5  Donald Petrie         1038       white   \n",
       "5             0.0    Comedy         1  Charles Shyer          609    dark red   \n",
       "6             0.0    Action         0   Michael Mann         2716  light blue   \n",
       "7             0.0   Romance         5   Billy Wilder          398       black   \n",
       "\n",
       "                                           color  colorNum        actorName  \\\n",
       "1   (104.392166836, 54.7272562127, 43.522889115)         5        Tom Hanks   \n",
       "3  (240.257754103, 245.865108686, 244.831228342)        11      Jack Lemmon   \n",
       "5  (66.3822844645, 58.6215606039, 44.2912374771)         5     Steve Martin   \n",
       "6  (148.308032972, 178.875707128, 227.418005495)         6        Al Pacino   \n",
       "7  (11.6874206517, 10.4756312597, 11.2805579066)         0  Humphrey Bogart   \n",
       "\n",
       "   actorNum  tagSentiment  countryNum  \n",
       "1      7241      0.356944          66  \n",
       "3      3122      0.100000          66  \n",
       "5      6881      0.000000          66  \n",
       "6       120      0.060606          66  \n",
       "7      3009      0.000000          66  "
      ]
     },
     "execution_count": 28,
     "metadata": {},
     "output_type": "execute_result"
    }
   ],
   "source": [
    "moviesData.head()"
   ]
  },
  {
   "cell_type": "markdown",
   "metadata": {},
   "source": [
    "Now to clean up the types of data"
   ]
  },
  {
   "cell_type": "code",
   "execution_count": 29,
   "metadata": {
    "collapsed": false
   },
   "outputs": [],
   "source": [
    "moviesData['rtAudienceNumRatings'] = moviesData.rtAudienceNumRatings.replace({'\\\\N':'0', 'NA': '0'})\n",
    "moviesData['rtAudienceScore'] = moviesData.rtAudienceScore.replace({'\\\\N':'0', 'NA': '0'})"
   ]
  },
  {
   "cell_type": "code",
   "execution_count": 30,
   "metadata": {
    "collapsed": true
   },
   "outputs": [],
   "source": [
    "moviesData.rtAudienceNumRatings = moviesData.rtAudienceNumRatings.astype('int')\n",
    "moviesData.rtAudienceScore = moviesData.rtAudienceScore.astype('int')\n",
    "moviesData.real_genre = moviesData.realGenre.astype('category')\n",
    "moviesData.directorName = moviesData.directorName.astype('category')\n",
    "moviesData.poster_color = moviesData.posterColor.astype('category')\n",
    "moviesData.actorName = moviesData.actorName.astype('category')"
   ]
  },
  {
   "cell_type": "code",
   "execution_count": 31,
   "metadata": {
    "collapsed": false
   },
   "outputs": [
    {
     "data": {
      "text/plain": [
       "title                     object\n",
       "year                       int64\n",
       "rtAudienceNumRatings       int64\n",
       "rtAudienceScore            int64\n",
       "titleSentiment           float64\n",
       "realGenre                 object\n",
       "genreNum                    int8\n",
       "directorName            category\n",
       "directorNum                int16\n",
       "posterColor               object\n",
       "color                     object\n",
       "colorNum                    int8\n",
       "actorName               category\n",
       "actorNum                   int16\n",
       "tagSentiment             float64\n",
       "countryNum                  int8\n",
       "dtype: object"
      ]
     },
     "execution_count": 31,
     "metadata": {},
     "output_type": "execute_result"
    }
   ],
   "source": [
    "moviesData.dtypes"
   ]
  },
  {
   "cell_type": "code",
   "execution_count": 32,
   "metadata": {
    "collapsed": false
   },
   "outputs": [],
   "source": [
    "assert pd.notnull(moviesData.any().any())"
   ]
  },
  {
   "cell_type": "markdown",
   "metadata": {
    "collapsed": false
   },
   "source": [
    "## Saving Data"
   ]
  },
  {
   "cell_type": "markdown",
   "metadata": {
    "collapsed": true
   },
   "source": [
    "Last we save the data as a pickle named moviesData."
   ]
  },
  {
   "cell_type": "code",
   "execution_count": 33,
   "metadata": {
    "collapsed": true
   },
   "outputs": [],
   "source": [
    "moviesData.to_pickle(prefix + 'moviesData.pkl')"
   ]
  }
 ],
 "metadata": {
  "kernelspec": {
   "display_name": "Python 3",
   "language": "python",
   "name": "python3"
  },
  "language_info": {
   "codemirror_mode": {
    "name": "ipython",
    "version": 3
   },
   "file_extension": ".py",
   "mimetype": "text/x-python",
   "name": "python",
   "nbconvert_exporter": "python",
   "pygments_lexer": "ipython3",
   "version": "3.4.3"
  }
 },
 "nbformat": 4,
 "nbformat_minor": 0
}
