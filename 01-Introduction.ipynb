{
 "cells": [
  {
   "cell_type": "markdown",
   "metadata": {},
   "source": [
    "# Predicting Movie Genres "
   ]
  },
  {
   "cell_type": "markdown",
   "metadata": {},
   "source": [
    "By Kyle Vigil"
   ]
  },
  {
   "cell_type": "markdown",
   "metadata": {},
   "source": [
    "## Abstract\n",
    "\n",
    "I, like most people, enjoy watching a good movie. Of course \"good\" is based off of individual preference. I almost always base by decision on if I want to watch a movie or not on the movies' genre, for example I tend to shy away from rom-coms. I can pretty much tell with 100% accuracy the genre of a movie just based on the title, the poster and some details about the movie such as director and actors. This led me to wonder how accurate a computer could be in predicting the genre of a movie based on these same data points.\n",
    "\n",
    "In this project I am looking at movie metadata, ranging from actors and directors to movie posters, in order form a machine learning model to predict movie genre. I hypothesize that there will be a number of extremely important factors that will assist me in making this model quite accurate. For example, the primary colors of the movie poster will likely heavily correlate to the genre, blues and greens for children's movies, red and black for horror, etc."
   ]
  },
  {
   "cell_type": "markdown",
   "metadata": {},
   "source": [
    "## Data Set"
   ]
  },
  {
   "cell_type": "markdown",
   "metadata": {},
   "source": [
    "I am using a dataset provided by GroupLens, with data from both MovieLens and Rotten Tomatoes. This data set has extensive metadata about 10,197 movies released before 2011. This data set has the following categories of data about each movie:\n",
    "* actors\n",
    "* countries released in \n",
    "* directors\n",
    "* genres\n",
    "* locations filmed in\n",
    "* tags\n",
    "* user reviews\n",
    "* movie poster url\n",
    "* rotten tomatoes critic rating\n",
    "    "
   ]
  },
  {
   "cell_type": "markdown",
   "metadata": {},
   "source": [
    "## Challenge Area"
   ]
  },
  {
   "cell_type": "markdown",
   "metadata": {},
   "source": [
    "My challenge area was working with images and color. I clustered rgb values using sklearn and kmeans and classified each color to a category using least squared distances."
   ]
  },
  {
   "cell_type": "markdown",
   "metadata": {},
   "source": [
    "## Table of Contents"
   ]
  },
  {
   "cell_type": "markdown",
   "metadata": {},
   "source": [
    "### [Data Cleaning](02-DataCleaning.ipynb)\n",
    "This notebook cleans all of the MovieLens dataset into one table that is crucial for making the model.\n",
    "   * [Color Clusters](02a-ColorClusters.ipynb)\n",
    "     - Helper notebook to find the most popular color of movie posters\n",
    "   * [Genres](02b-Genres.ipynb)\n",
    "     - Helper notebook to find the overarching genre of movies  \n",
    "\n",
    "### [Exploration](03-Exploration.ipynb)\n",
    "Exploring the data with graphs and figures. Looking for corelation to genres\n",
    "\n",
    "### [MachineLearning](04-MachineLearning.ipynb)\n",
    "Fitting a model to predict movie genre\n",
    "\n",
    "### [Presentation](05-Presentation.ipynb)\n",
    "Presentation Notebook"
   ]
  },
  {
   "cell_type": "markdown",
   "metadata": {},
   "source": [
    "## Citations"
   ]
  },
  {
   "cell_type": "markdown",
   "metadata": {},
   "source": [
    "http://www.pyimagesearch.com/2014/08/04/opencv-python-color-detection/\n",
    "\n",
    "http://charlesleifer.com/blog/using-python-and-k-means-to-find-the-dominant-colors-in-images/\n",
    "\n",
    "https://gist.github.com/jdiscar/9144764"
   ]
  }
 ],
 "metadata": {
  "kernelspec": {
   "display_name": "Python 3",
   "language": "python",
   "name": "python3"
  },
  "language_info": {
   "codemirror_mode": {
    "name": "ipython",
    "version": 3
   },
   "file_extension": ".py",
   "mimetype": "text/x-python",
   "name": "python",
   "nbconvert_exporter": "python",
   "pygments_lexer": "ipython3",
   "version": "3.4.3"
  }
 },
 "nbformat": 4,
 "nbformat_minor": 0
}
